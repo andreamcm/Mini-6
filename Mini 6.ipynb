{
 "cells": [
  {
   "cell_type": "markdown",
   "metadata": {},
   "source": [
    "###### Universidad del Valle de Guatemala\n",
    "###### Autora: Andrea Cordón\n",
    "###### Carné: 16076\n",
    "###### Fecha: 22/11/2019"
   ]
  },
  {
   "cell_type": "markdown",
   "metadata": {},
   "source": [
    "# Mini #6"
   ]
  },
  {
   "cell_type": "markdown",
   "metadata": {},
   "source": [
    "Es importante mencionar que el código utilizado para los incisos 1, 2 y 3 se basó en el que se puede encontrar en este tutorial: https://www.youtube.com/watch?v=cXHvC_FGx24. \n",
    "Solo se cambiaron las ecuaciones y las restricciones y se adaptaron a lo que se solicitaba en cada uno. Los máximos obtenidos con las funciones se encuentran antes y al final de cada implementación los máximos con restricciones y optimizaciones."
   ]
  },
  {
   "cell_type": "markdown",
   "metadata": {},
   "source": [
    "### Task 1:"
   ]
  },
  {
   "cell_type": "code",
   "execution_count": 18,
   "metadata": {},
   "outputs": [],
   "source": [
    "import numpy as np\n",
    "#import sys\n",
    "#!{sys.executable} -m pip install scipy\n",
    "from scipy.optimize import minimize"
   ]
  },
  {
   "cell_type": "code",
   "execution_count": 207,
   "metadata": {},
   "outputs": [],
   "source": [
    "def objective1(x):\n",
    "    x1 = x[0]\n",
    "    x2 = x[1]\n",
    "    res = (15.0*x1) + (30.0*x2) + (4.0*x1*x2)  - (2.0*(x1**2)) - (4.0*(x2**2))\n",
    "    return res\n",
    "\n",
    "def constraint1(x):\n",
    "    return x[0] + (2*x[1]) - 30"
   ]
  },
  {
   "cell_type": "code",
   "execution_count": 210,
   "metadata": {},
   "outputs": [
    {
     "name": "stdout",
     "output_type": "stream",
     "text": [
      "El máximo es: 270.0\n"
     ]
    }
   ],
   "source": [
    "# Estos valores se obtuvieron luego de probar varias veces con números random\n",
    "x0 =(12.0, 9.0)\n",
    "#print(objective1(x0))\n",
    "print(\"El máximo es:\", objective1(x0))"
   ]
  },
  {
   "cell_type": "code",
   "execution_count": 209,
   "metadata": {},
   "outputs": [],
   "source": [
    "b = (0.0, 30.0)\n",
    "bs = (b,b)\n",
    "con1 = {'type': 'ineq', 'fun': constraint1}"
   ]
  },
  {
   "cell_type": "code",
   "execution_count": 161,
   "metadata": {},
   "outputs": [
    {
     "name": "stdout",
     "output_type": "stream",
     "text": [
      "El máximo es: 270.0\n"
     ]
    }
   ],
   "source": [
    "sol = minimize(objective1, x0, method='SLSQP', bounds=bs, constraints=con1)\n",
    "print(\"El máximo es:\", sol.fun)"
   ]
  },
  {
   "cell_type": "markdown",
   "metadata": {},
   "source": [
    "### Task 2:"
   ]
  },
  {
   "cell_type": "code",
   "execution_count": 201,
   "metadata": {},
   "outputs": [],
   "source": [
    "def objective2(x):\n",
    "    x1 = x[0]\n",
    "    x2 = x[1]\n",
    "    res = (3*x1) + (5*x2)\n",
    "    return res\n",
    "\n",
    "def constraint12(x):\n",
    "    return x[0] - 4\n",
    "def constraint22(x):\n",
    "    return 2*x[1] - 12\n",
    "def constraint32(x):\n",
    "    return 3*x[0] + 2*x[1] - 18"
   ]
  },
  {
   "cell_type": "code",
   "execution_count": 206,
   "metadata": {},
   "outputs": [
    {
     "name": "stdout",
     "output_type": "stream",
     "text": [
      "El máximo es: 36.0\n"
     ]
    }
   ],
   "source": [
    "x1 = [2.0, 6.0]\n",
    "#print(objective2(x1))\n",
    "print(\"El máximo es:\", objective2(x1))"
   ]
  },
  {
   "cell_type": "code",
   "execution_count": 203,
   "metadata": {},
   "outputs": [],
   "source": [
    "# Para aplicar restricciones y optimizar la función.\n",
    "b2 = (0.0, 6.0)\n",
    "bs2 = (b,b)\n",
    "con12 = {'type': 'ineq', 'fun': constraint12}\n",
    "con22 = {'type': 'ineq', 'fun': constraint22}\n",
    "con32 = {'type': 'ineq', 'fun': constraint32}\n",
    "cons = [con12, con22, con32]"
   ]
  },
  {
   "cell_type": "code",
   "execution_count": 204,
   "metadata": {},
   "outputs": [
    {
     "name": "stdout",
     "output_type": "stream",
     "text": [
      "     fun: 41.99999999999967\n",
      "     jac: array([3., 5.])\n",
      " message: 'Optimization terminated successfully.'\n",
      "    nfev: 8\n",
      "     nit: 2\n",
      "    njev: 2\n",
      "  status: 0\n",
      " success: True\n",
      "       x: array([4., 6.])\n",
      "El máximo es: 41.99999999999967\n"
     ]
    }
   ],
   "source": [
    "# Se utiliza la función minimize para optimizar la función con sus respectivas restricciones\n",
    "sol = minimize(objective2, x1, method='SLSQP', bounds=bs2, constraints=cons)\n",
    "#print(sol)\n",
    "print(\"El máximo es:\", sol.fun)"
   ]
  },
  {
   "cell_type": "markdown",
   "metadata": {},
   "source": [
    "### Task 3:"
   ]
  },
  {
   "cell_type": "code",
   "execution_count": 189,
   "metadata": {},
   "outputs": [],
   "source": [
    "def objective(x):\n",
    "    x1 = x[0]\n",
    "    x2 = x[1]\n",
    "    res = (5 * x1) - (x1**2) + (8 * x2) - (2*(x2**2))\n",
    "    return res\n",
    "\n",
    "def constraint31(x):\n",
    "    return (3*x[0]) + (2*x[1]) - 6"
   ]
  },
  {
   "cell_type": "code",
   "execution_count": 190,
   "metadata": {},
   "outputs": [
    {
     "name": "stdout",
     "output_type": "stream",
     "text": [
      "10.0\n"
     ]
    }
   ],
   "source": [
    "x2 = (1.0, 1.0)\n",
    "print(objective(x2))"
   ]
  },
  {
   "cell_type": "code",
   "execution_count": 195,
   "metadata": {},
   "outputs": [],
   "source": [
    "b3 = (0.0, 6.0)\n",
    "bs3 = (b3,b3)\n",
    "con31 = {'type': 'ineq', 'fun': constraint31}"
   ]
  },
  {
   "cell_type": "code",
   "execution_count": 196,
   "metadata": {},
   "outputs": [
    {
     "name": "stdout",
     "output_type": "stream",
     "text": [
      "     fun: 6.000000000000025\n",
      "     jac: array([1.        , 7.99999994])\n",
      " message: 'Optimization terminated successfully.'\n",
      "    nfev: 8\n",
      "     nit: 2\n",
      "    njev: 2\n",
      "  status: 0\n",
      " success: True\n",
      "       x: array([2.00000000e+00, 2.66453526e-15])\n",
      "El máximo es: 6.000000000000025\n"
     ]
    }
   ],
   "source": [
    "sol = minimize(objective, x2, method='SLSQP', bounds=bs3, constraints=con31)\n",
    "print(sol)\n",
    "print(\"El máximo es:\", sol.fun)"
   ]
  },
  {
   "cell_type": "markdown",
   "metadata": {},
   "source": [
    "### Task 4:"
   ]
  },
  {
   "cell_type": "markdown",
   "metadata": {},
   "source": [
    "Para este task se escogió la aplicación \"detección de brechas en los sistemas de seguridad\" que puede ser encontrada en el siguiente enlace: https://www.researchgate.net/publication/317576458_Aplicacion_de_algoritmos_geneticos_en_problemas_de_Ingenieria.\n",
    "\n",
    "La idea de utilizar algoritmos genéticos (AG) para esta aplicación es que el AG se encargará de detectar todo tipo de brechas de seguridad en los dispositivos que se supone la proveen. De esta aplicación se pueden identificar las siguientes partes:\n",
    "##### Alelos\n",
    "Si lo que desea es representar el tráfico que atraviesa una red, se pueden definir los alelos del algoritmo como los distintos protocolos que se utilizan para enviar información dentro de una red. Es decir, TCP, UDP, NTP, etc. ya que cada uno de estos protocolos contienen información parecida que puede ayudar en la detección de tráfico malicioso. \n",
    "\n",
    "##### Genoma\n",
    "En este caso los genomas serían todas las partes que conforman los protocolos de red a evaluar (Puerto de origen, puerto de destino, dirección IP de origen, etc.).\n",
    "\n",
    "##### Fenotipo\n",
    "El fenotipo de este algoritmo sería el mensaje que estos protocolos envían a través de la red. Esto quiere decir que será la unión de todos los genomas mencionados anteriormente.\n",
    "\n",
    "##### Fitness\n",
    "Para este algoritmo, se puede utilizar una función basada en \"support-confidence framework\" como lo hace Gong en sus experimentos (esto se menciona en el artículo). En este si una regla es descrita como A entonces B, se puede determinar si una regla es descrita como si A entonces B. Básicamente se sigue lo siguiente:\n",
    "       support = |A U B| / N\n",
    "    confidence = |A U B| / |A|\n",
    "       fitness = w1 * support + w2 * confidence \n",
    "Donde w1 y w2 sirven para encontrar anomalías generales (w1 y w2 son genotipos).\n",
    "\n",
    "##### Criterios de selección\n",
    "Seleccionar dos ejemplos de mensajes que se envían a través de los protocolos seleccionados y mezclarlos. Para que funcione, los dos hijos deben ser del mismo protocolo.\n",
    "\n",
    "##### Criterios de cruce\n",
    "El cruce se puede realizar con una probabilidad del 50% para cada uno. La idea sería obtener por lo menos a 2 descendientes por cruce. \n",
    "\n",
    "##### Criterios de mutación\n",
    "Cruces que tienen defectos y se van transformando en maliciosos deben quedarse y seleccionarse para convertirse en los mensajes que pueden presentar brechas para los dispositivos. "
   ]
  }
 ],
 "metadata": {
  "kernelspec": {
   "display_name": "Python 3",
   "language": "python",
   "name": "python3"
  },
  "language_info": {
   "codemirror_mode": {
    "name": "ipython",
    "version": 3
   },
   "file_extension": ".py",
   "mimetype": "text/x-python",
   "name": "python",
   "nbconvert_exporter": "python",
   "pygments_lexer": "ipython3",
   "version": "3.7.4"
  }
 },
 "nbformat": 4,
 "nbformat_minor": 2
}
